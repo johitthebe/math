{
  "nbformat": 4,
  "nbformat_minor": 0,
  "metadata": {
    "colab": {
      "provenance": []
    },
    "kernelspec": {
      "name": "python3",
      "display_name": "Python 3"
    },
    "language_info": {
      "name": "python"
    }
  },
  "cells": [
    {
      "cell_type": "code",
      "execution_count": 2,
      "metadata": {
        "id": "yDbJntPOEkie"
      },
      "outputs": [],
      "source": [
        "import pandas as pd"
      ]
    },
    {
      "cell_type": "code",
      "source": [
        "df = pd.read_csv(\"/content/drive/MyDrive/Data set/Titanic-Dataset.csv\")\n",
        "print(df)"
      ],
      "metadata": {
        "id": "4TqPccUqFdkK"
      },
      "execution_count": null,
      "outputs": []
    },
    {
      "cell_type": "code",
      "source": [
        "Fare = df[['Fare']]\n",
        "Fare.head()"
      ],
      "metadata": {
        "id": "aNSRcNIXGGwR"
      },
      "execution_count": null,
      "outputs": []
    },
    {
      "cell_type": "markdown",
      "source": [
        "Create a DataFrame called fare that contains only the Fare column of the Titanic dataset. Print the\n",
        "head of the result."
      ],
      "metadata": {
        "id": "FdCDFKeoh6vj"
      }
    },
    {
      "cell_type": "code",
      "source": [
        "class_age = df[['Pclass', 'Age']]\n",
        "class_age.head()\n"
      ],
      "metadata": {
        "id": "WZDJweMrG8_r"
      },
      "execution_count": null,
      "outputs": []
    },
    {
      "cell_type": "markdown",
      "source": [
        "Create a DataFrame called class age that contains only the Pclass and Age columns of the Titanic\n",
        "dataset, in that order. Print the head of the result."
      ],
      "metadata": {
        "id": "8pXexpMBhsst"
      }
    },
    {
      "cell_type": "code",
      "source": [
        "survived_gender = df[['Survived', 'Sex']]\n",
        "survived_gender.head()"
      ],
      "metadata": {
        "id": "6Hy3BbBTIR1-"
      },
      "execution_count": null,
      "outputs": []
    },
    {
      "cell_type": "markdown",
      "source": [
        "Create a DataFrame called survived gender that contains the Survived and Sex columns of the\n",
        "Titanic dataset, in that order.Print the head of the result."
      ],
      "metadata": {
        "id": "nbxzDaB_hph0"
      }
    },
    {
      "cell_type": "code",
      "source": [
        "Fare_gt_100 = df[df['Fare']>100]\n",
        "Fare_gt_100"
      ],
      "metadata": {
        "id": "6Zupc-quHRZ7"
      },
      "execution_count": null,
      "outputs": []
    },
    {
      "cell_type": "markdown",
      "source": [
        "Filter the Titanic dataset for cases where the passenger’s fare is greater than 100, assigning it\n",
        "to fare gt 100.View the printed result."
      ],
      "metadata": {
        "id": "CJZMb7Dqhjr8"
      }
    },
    {
      "cell_type": "code",
      "source": [
        "first_class = df[df['Pclass'] ==  1]\n",
        "first_class"
      ],
      "metadata": {
        "id": "sfqxMAANHpgU"
      },
      "execution_count": null,
      "outputs": []
    },
    {
      "cell_type": "markdown",
      "source": [
        "Filter the Titanic dataset for cases where the passenger’s age is less than 18 and the passenger\n",
        "is female (Sex is \"female\"), assigning it to female under 18. View the printed result."
      ],
      "metadata": {
        "id": "d4E9tlDcg1VD"
      }
    },
    {
      "cell_type": "code",
      "source": [
        "female_under_18 = df[(df['Age']<18) & (df['Sex'] == 'female')]\n",
        "female_under_18"
      ],
      "metadata": {
        "id": "8emV8ZbUWE62"
      },
      "execution_count": null,
      "outputs": []
    },
    {
      "cell_type": "markdown",
      "source": [
        "Filter the Titanic dataset for passengers whose Embarked port is either \"C\" (Cherbourg) or \"S\"\n",
        "(Southampton), assigning the result to embarked c or s. View the printed result."
      ],
      "metadata": {
        "id": "5yCtqLOEgwjr"
      }
    },
    {
      "cell_type": "code",
      "source": [
        "embarked_c_or_s = df[(df['Embarked']=='C') | (df['Embarked'] == 'S')]\n",
        "embarked_c_or_s"
      ],
      "metadata": {
        "id": "7F5abZkkYzxv"
      },
      "execution_count": null,
      "outputs": []
    },
    {
      "cell_type": "markdown",
      "source": [
        "Filter the Titanic dataset for passengers whose Pclass is in the list [1, 2] (indicating first\n",
        "or second class), assigning the result to first second class.View the printed result."
      ],
      "metadata": {
        "id": "Jj5RPZ3ugl8d"
      }
    },
    {
      "cell_type": "code",
      "source": [
        "first_second_class = df[(df['Pclass']==1) |(df['Pclass'] == 2)]\n",
        "first_second_class"
      ],
      "metadata": {
        "id": "uGSrFI8GabsI"
      },
      "execution_count": null,
      "outputs": []
    },
    {
      "cell_type": "markdown",
      "source": [
        "Which passenger had the highest fare paid relative to their age?"
      ],
      "metadata": {
        "id": "uWMyLPHogS90"
      }
    },
    {
      "cell_type": "code",
      "source": [
        "df['fare_per_year'] = df['Fare'] / df['Age']\n",
        "df['fare_per_year'] = df['fare_per_year'].replace([float('inf'), -float('inf')], 0).fillna(0)"
      ],
      "metadata": {
        "id": "WBIhuxhAbeeS"
      },
      "execution_count": 6,
      "outputs": []
    },
    {
      "cell_type": "code",
      "source": [
        "high_fare_age = df[df['fare_per_year'] > 5]"
      ],
      "metadata": {
        "id": "dwczhLVEVJzv"
      },
      "execution_count": 7,
      "outputs": []
    },
    {
      "cell_type": "code",
      "source": [
        "high_fare_age_srt = high_fare_age.sort_values(by='fare_per_year', ascending=False)\n"
      ],
      "metadata": {
        "id": "AAEbKxcqVQU0"
      },
      "execution_count": 8,
      "outputs": []
    },
    {
      "cell_type": "code",
      "source": [
        "result = high_fare_age_srt[['Name', 'fare_per_year']]\n",
        "result\n"
      ],
      "metadata": {
        "id": "s1z5FTI3VYu-"
      },
      "execution_count": null,
      "outputs": []
    },
    {
      "cell_type": "markdown",
      "source": [
        "Which adult male passenger (age ≥ 18 and Sex is ’male’) paid the highest fare relative to their\n",
        "class?"
      ],
      "metadata": {
        "id": "THLhJYnJe5e1"
      }
    },
    {
      "cell_type": "code",
      "source": [
        "df['fare_per_class'] = df['Fare'] / df['Pclass']"
      ],
      "metadata": {
        "id": "_U9r10jZVbnK"
      },
      "execution_count": 15,
      "outputs": []
    },
    {
      "cell_type": "code",
      "source": [
        "adult_males = df[(df['Sex'] == 'male') & (df['Age'] >= 18)]"
      ],
      "metadata": {
        "id": "hFjAer5neLMt"
      },
      "execution_count": 17,
      "outputs": []
    },
    {
      "cell_type": "code",
      "source": [
        "adult_males_srt = adult_males.sort_values(by='fare_per_class', ascending=False)\n"
      ],
      "metadata": {
        "id": "O6Nr5n3weTzt"
      },
      "execution_count": 19,
      "outputs": []
    },
    {
      "cell_type": "code",
      "source": [
        "result = adult_males_srt[['Name', 'Age', 'fare_per_class']]\n",
        "result"
      ],
      "metadata": {
        "id": "Np9n3AL2ebft"
      },
      "execution_count": null,
      "outputs": []
    }
  ]
}