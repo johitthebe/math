{
 "cells": [
  {
   "cell_type": "code",
   "execution_count": 2,
   "id": "e8da0b24",
   "metadata": {},
   "outputs": [
    {
     "data": {
      "text/plain": [
       "array([[0., 0.],\n",
       "       [0., 0.]])"
      ]
     },
     "execution_count": 2,
     "metadata": {},
     "output_type": "execute_result"
    }
   ],
   "source": [
    "import numpy as np\n",
    "arr = np.zeros((2,2))\n",
    "arr"
   ]
  },
  {
   "cell_type": "code",
   "execution_count": 3,
   "id": "fcf9ba3b",
   "metadata": {},
   "outputs": [
    {
     "data": {
      "text/plain": [
       "array([[1., 1.],\n",
       "       [1., 1.],\n",
       "       [1., 1.],\n",
       "       [1., 1.]])"
      ]
     },
     "execution_count": 3,
     "metadata": {},
     "output_type": "execute_result"
    }
   ],
   "source": [
    "import numpy as np\n",
    "arr = np.ones((4,2))\n",
    "arr"
   ]
  },
  {
   "cell_type": "code",
   "execution_count": 5,
   "id": "50e196d8",
   "metadata": {},
   "outputs": [
    {
     "data": {
      "text/plain": [
       "array([[5, 5, 5, 5],\n",
       "       [5, 5, 5, 5],\n",
       "       [5, 5, 5, 5],\n",
       "       [5, 5, 5, 5]])"
      ]
     },
     "execution_count": 5,
     "metadata": {},
     "output_type": "execute_result"
    }
   ],
   "source": [
    "import numpy as np\n",
    "arr = np.full((4,4),5)\n",
    "arr"
   ]
  },
  {
   "cell_type": "code",
   "execution_count": 7,
   "id": "7d7c6d6a",
   "metadata": {},
   "outputs": [
    {
     "name": "stdout",
     "output_type": "stream",
     "text": [
      "[[1 2 3]\n",
      " [1 2 3]]\n",
      "[[0 0 0]\n",
      " [0 0 0]]\n"
     ]
    }
   ],
   "source": [
    "import numpy as np\n",
    "arr = np.array([[1,2,3],[1,2,3]])\n",
    "new_arr = np.zeros_like(arr)\n",
    "print(arr)\n",
    "print(new_arr)"
   ]
  },
  {
   "cell_type": "code",
   "execution_count": 11,
   "id": "4ff7f5c0",
   "metadata": {},
   "outputs": [
    {
     "name": "stdout",
     "output_type": "stream",
     "text": [
      "[[1 2 3]\n",
      " [1 2 3]]\n",
      "[[1 1 1]\n",
      " [1 1 1]]\n"
     ]
    }
   ],
   "source": [
    "import numpy as np\n",
    "arr = np.array([[1,2,3],[1,2,3]])\n",
    "new_arr = np.ones_like(arr)\n",
    "print(arr)\n",
    "print(new_arr)"
   ]
  },
  {
   "cell_type": "code",
   "execution_count": 15,
   "id": "ec949682",
   "metadata": {},
   "outputs": [
    {
     "name": "stdout",
     "output_type": "stream",
     "text": [
      "[1, 2, 3, 4]\n",
      "[1 2 3 4]\n"
     ]
    }
   ],
   "source": [
    "import numpy as np\n",
    "new_list = [1,2,3,4]\n",
    "arr = np.array(new_list)\n",
    "print(new_list)\n",
    "print(arr)"
   ]
  },
  {
   "cell_type": "code",
   "execution_count": 25,
   "id": "8d5175e6",
   "metadata": {},
   "outputs": [
    {
     "name": "stdout",
     "output_type": "stream",
     "text": [
      "Array with values arranging from 10 to 49:\n",
      "[10 11 12 13 14 15 16 17 18 19 20 21 22 23 24 25 26 27 28 29 30 31 32 33\n",
      " 34 35 36 37 38 39 40 41 42 43 44 45 46 47 48 49]\n"
     ]
    }
   ],
   "source": [
    "import numpy as np\n",
    "\n",
    "array = np.arange(10, 50)\n",
    "print(\"Array with values arranging from 10 to 49:\")\n",
    "print(array)\n"
   ]
  },
  {
   "cell_type": "code",
   "execution_count": 26,
   "id": "ee9a8151",
   "metadata": {},
   "outputs": [
    {
     "name": "stdout",
     "output_type": "stream",
     "text": [
      "\n",
      "3x3 matrix with values ranging from 0 to 8: \n",
      "[[0 1 2]\n",
      " [3 4 5]\n",
      " [6 7 8]]\n"
     ]
    }
   ],
   "source": [
    "matrix = np.arange(9).reshape(3, 3)\n",
    "print(\"\\n3x3 matrix with values ranging from 0 to 8: \")\n",
    "print(matrix)"
   ]
  },
  {
   "cell_type": "code",
   "execution_count": 18,
   "id": "a46c31fb",
   "metadata": {},
   "outputs": [
    {
     "name": "stdout",
     "output_type": "stream",
     "text": [
      "\n",
      "3x3 identity matrix:\n",
      "[[1. 0. 0.]\n",
      " [0. 1. 0.]\n",
      " [0. 0. 1.]]\n"
     ]
    }
   ],
   "source": [
    "identity_matrix = np.eye(3)\n",
    "print(\"\\n3x3 identity matrix: \")\n",
    "print(identity_matrix)\n"
   ]
  },
  {
   "cell_type": "code",
   "execution_count": 27,
   "id": "7233b735",
   "metadata": {},
   "outputs": [
    {
     "name": "stdout",
     "output_type": "stream",
     "text": [
      "\n",
      "Random array of size 30: \n",
      "[0.73862186 0.48772698 0.10095076 0.57567103 0.99897535 0.84521461\n",
      " 0.86767384 0.00583828 0.07294378 0.82444107 0.83223869 0.81094233\n",
      " 0.42000083 0.61867647 0.09115007 0.33154937 0.50798538 0.03707563\n",
      " 0.22276115 0.70402635 0.53990168 0.77645572 0.319968   0.23080425\n",
      " 0.56571621 0.55100776 0.55368257 0.92488582 0.46446989 0.17479199]\n",
      "\n",
      "Mean of the array: \n",
      "0.5065382574841963\n"
     ]
    }
   ],
   "source": [
    "random_array = np.random.random(30)\n",
    "mean_value = random_array.mean()\n",
    "print(\"\\nRandom array of size 30: \")\n",
    "print(random_array)\n",
    "print(\"\\nMean of the array: \")\n",
    "print(mean_value)"
   ]
  },
  {
   "cell_type": "code",
   "execution_count": 20,
   "id": "5da0370b",
   "metadata": {},
   "outputs": [
    {
     "name": "stdout",
     "output_type": "stream",
     "text": [
      "\n",
      "10x10 array with random values:\n",
      "[[0.76963519 0.60102047 0.04330053 0.40563226 0.13103438 0.19620449\n",
      "  0.62160333 0.75121487 0.90364599 0.17494562]\n",
      " [0.36433326 0.36749852 0.17957997 0.73754841 0.30779746 0.20226499\n",
      "  0.47324559 0.0447999  0.39753193 0.27584849]\n",
      " [0.35039614 0.50180221 0.88664799 0.4287858  0.2889915  0.43769695\n",
      "  0.0467333  0.36140195 0.60091271 0.25129858]\n",
      " [0.94714681 0.09424424 0.55025174 0.69318366 0.17002658 0.12152655\n",
      "  0.00900391 0.53472495 0.28508192 0.15984817]\n",
      " [0.41618917 0.28213991 0.02425804 0.40803041 0.83598609 0.85107905\n",
      "  0.88854214 0.81586339 0.82658949 0.75669001]\n",
      " [0.21149117 0.97927272 0.11902737 0.14237478 0.78841851 0.24588821\n",
      "  0.14454841 0.63552742 0.80143474 0.11633141]\n",
      " [0.47647687 0.08907174 0.36351998 0.18929808 0.28921802 0.16810212\n",
      "  0.32874331 0.07758755 0.47480629 0.75746021]\n",
      " [0.77011948 0.62564711 0.96888044 0.49375979 0.11681011 0.26805778\n",
      "  0.84046028 0.3565388  0.50766226 0.59812605]\n",
      " [0.78286153 0.85514525 0.27143098 0.36280252 0.87408484 0.43663485\n",
      "  0.38329075 0.52775912 0.09170286 0.50447707]\n",
      " [0.91365325 0.32465247 0.79160919 0.76082102 0.2938629  0.37714922\n",
      "  0.30125117 0.53770597 0.61531766 0.20587379]]\n",
      "\n",
      "Minimum value in the array:\n",
      "0.009003908116637094\n",
      "\n",
      "Maximum value in the array:\n",
      "0.9792727171104333\n"
     ]
    }
   ],
   "source": [
    "random_10x10 = np.random.random((10, 10))\n",
    "min_value = random_10x10.min()\n",
    "max_value = random_10x10.max()\n",
    "print(\"\\n10x10 array with random values:\")\n",
    "print(random_10x10)\n",
    "print(\"\\nMinimum value in the array:\")\n",
    "print(min_value)\n",
    "print(\"\\nMaximum value in the array:\")\n",
    "print(max_value)\n"
   ]
  },
  {
   "cell_type": "code",
   "execution_count": 21,
   "id": "0ce0845e",
   "metadata": {},
   "outputs": [
    {
     "name": "stdout",
     "output_type": "stream",
     "text": [
      "\n",
      "Zero array of size 10 with the 5th element replaced by 1:\n",
      "[0. 0. 0. 0. 1. 0. 0. 0. 0. 0.]\n"
     ]
    }
   ],
   "source": [
    "zero_array = np.zeros(10)\n",
    "zero_array[4] = 1\n",
    "print(\"\\nZero array of size 10 with the 5th element replaced by 1:\")\n",
    "print(zero_array)\n"
   ]
  },
  {
   "cell_type": "code",
   "execution_count": 22,
   "id": "3d16defe",
   "metadata": {},
   "outputs": [
    {
     "name": "stdout",
     "output_type": "stream",
     "text": [
      "\n",
      "Reversed array:\n",
      "[0 4 0 0 2 1]\n"
     ]
    }
   ],
   "source": [
    "arr = np.array([1, 2, 0, 0, 4, 0])\n",
    "reversed_arr = arr[::-1]\n",
    "print(\"\\nReversed array:\")\n",
    "print(reversed_arr)\n"
   ]
  },
  {
   "cell_type": "code",
   "execution_count": 23,
   "id": "46668f90",
   "metadata": {},
   "outputs": [
    {
     "name": "stdout",
     "output_type": "stream",
     "text": [
      "\n",
      "2D array with 1 on the border and 0 inside:\n",
      "[[1. 1. 1. 1. 1.]\n",
      " [1. 0. 0. 0. 1.]\n",
      " [1. 0. 0. 0. 1.]\n",
      " [1. 0. 0. 0. 1.]\n",
      " [1. 1. 1. 1. 1.]]\n"
     ]
    }
   ],
   "source": [
    "border_array = np.ones((5, 5))\n",
    "border_array[1:-1, 1:-1] = 0\n",
    "print(\"\\n2D array with 1 on the border and 0 inside:\")\n",
    "print(border_array)\n"
   ]
  },
  {
   "cell_type": "code",
   "execution_count": 24,
   "id": "ff857af8",
   "metadata": {},
   "outputs": [
    {
     "name": "stdout",
     "output_type": "stream",
     "text": [
      "\n",
      "8x8 matrix with a checkerboard pattern:\n",
      "[[0 1 0 1 0 1 0 1]\n",
      " [1 0 1 0 1 0 1 0]\n",
      " [0 1 0 1 0 1 0 1]\n",
      " [1 0 1 0 1 0 1 0]\n",
      " [0 1 0 1 0 1 0 1]\n",
      " [1 0 1 0 1 0 1 0]\n",
      " [0 1 0 1 0 1 0 1]\n",
      " [1 0 1 0 1 0 1 0]]\n"
     ]
    }
   ],
   "source": [
    "checkerboard = np.zeros((8, 8), dtype=int)\n",
    "checkerboard[1::2, ::2] = 1\n",
    "checkerboard[::2, 1::2] = 1\n",
    "print(\"\\n8x8 matrix with a checkerboard pattern:\")\n",
    "print(checkerboard)\n"
   ]
  },
  {
   "cell_type": "code",
   "execution_count": null,
   "id": "f9f57f3b",
   "metadata": {},
   "outputs": [],
   "source": [
    "x = np.array([[1, 2], [3, 5]]) \n",
    "y = np.array([[5, 6], [7, 8]])\n",
    "v = np.array([9, 10])\n",
    "w = np.array([11, 12])"
   ]
  },
  {
   "cell_type": "code",
   "execution_count": 30,
   "id": "6846f11f",
   "metadata": {},
   "outputs": [
    {
     "name": "stdout",
     "output_type": "stream",
     "text": [
      "Addition of x and y:\n",
      " [[ 6  8]\n",
      " [10 13]]\n"
     ]
    }
   ],
   "source": [
    "import numpy as np\n",
    "x = np.array([[1, 2], [3, 5]]) \n",
    "y = np.array([[5, 6], [7, 8]])\n",
    "add_xy = np.add(x, y)\n",
    "print(\"Addition of x and y:\\n\", add_xy)"
   ]
  },
  {
   "cell_type": "code",
   "execution_count": 31,
   "id": "dc67b29f",
   "metadata": {},
   "outputs": [
    {
     "name": "stdout",
     "output_type": "stream",
     "text": [
      "Subtraction of x and y:\n",
      " [[-4 -4]\n",
      " [-4 -3]]\n"
     ]
    }
   ],
   "source": [
    "import numpy as np\n",
    "x = np.array([[1, 2], [3, 5]]) \n",
    "y = np.array([[5, 6], [7, 8]])\n",
    "subtract_xy = np.subtract(x, y)\n",
    "print(\"Subtraction of x and y:\\n\", subtract_xy)\n"
   ]
  },
  {
   "cell_type": "code",
   "execution_count": 32,
   "id": "543c168b",
   "metadata": {},
   "outputs": [
    {
     "name": "stdout",
     "output_type": "stream",
     "text": [
      "Multiplication of x with 2:\n",
      " [[ 2  4]\n",
      " [ 6 10]]\n"
     ]
    }
   ],
   "source": [
    "import numpy as np\n",
    "x = np.array([[1,2],[3,5]])\n",
    "multiply_x = x * 2\n",
    "print(\"Multiplication of x with 2:\\n\", multiply_x)\n"
   ]
  },
  {
   "cell_type": "code",
   "execution_count": 33,
   "id": "3a0e50bb",
   "metadata": {},
   "outputs": [
    {
     "name": "stdout",
     "output_type": "stream",
     "text": [
      "Square of each element in x:\n",
      " [[ 1  4]\n",
      " [ 9 25]]\n"
     ]
    }
   ],
   "source": [
    "import numpy as np\n",
    "x = np.array([[1, 2], [3, 5]]) \n",
    "square_x = np.square(x)\n",
    "print(\"Square of each element in x:\\n\", square_x)"
   ]
  },
  {
   "cell_type": "code",
   "execution_count": 34,
   "id": "fe17f4eb",
   "metadata": {},
   "outputs": [
    {
     "name": "stdout",
     "output_type": "stream",
     "text": [
      "Dot product of v and w:\n",
      " 219\n",
      "Dot product of x and v:\n",
      " [29 77]\n",
      "Dot product of x and y:\n",
      " [[19 22]\n",
      " [50 58]]\n"
     ]
    }
   ],
   "source": [
    "import numpy as np\n",
    "x = np.array([[1, 2], [3, 5]]) \n",
    "y = np.array([[5, 6], [7, 8]])\n",
    "v = np.array([9, 10])\n",
    "w = np.array([11, 12])\n",
    "dot_vw = np.dot(v, w)\n",
    "print(\"Dot product of v and w:\\n\", dot_vw)\n",
    "\n",
    "dot_xv = np.dot(x, v)\n",
    "print(\"Dot product of x and v:\\n\", dot_xv)\n",
    "\n",
    "dot_xy = np.dot(x, y)\n",
    "print(\"Dot product of x and y:\\n\", dot_xy)\n"
   ]
  },
  {
   "cell_type": "code",
   "execution_count": 36,
   "id": "52c2006f",
   "metadata": {},
   "outputs": [
    {
     "name": "stdout",
     "output_type": "stream",
     "text": [
      "Error: all the input arrays must have same number of dimensions, but the array at index 0 has 2 dimension(s) and the array at index 1 has 1 dimension(s)\n"
     ]
    }
   ],
   "source": [
    "import numpy as np\n",
    "x = np.array([[1, 2], [3, 5]]) \n",
    "v = np.array([9, 10])\n",
    "try:\n",
    "    concat_xv = np.concatenate((x, v), axis=0)\n",
    "    print(\"Concatenation of x and v:\\n\", concat_xv)\n",
    "except ValueError as e:\n",
    "    print(\"Error:\", e)\n"
   ]
  },
  {
   "cell_type": "code",
   "execution_count": null,
   "id": "3ce9873c",
   "metadata": {},
   "outputs": [],
   "source": []
  }
 ],
 "metadata": {
  "kernelspec": {
   "display_name": "Python 3 (ipykernel)",
   "language": "python",
   "name": "python3"
  },
  "language_info": {
   "codemirror_mode": {
    "name": "ipython",
    "version": 3
   },
   "file_extension": ".py",
   "mimetype": "text/x-python",
   "name": "python",
   "nbconvert_exporter": "python",
   "pygments_lexer": "ipython3",
   "version": "3.11.5"
  }
 },
 "nbformat": 4,
 "nbformat_minor": 5
}
